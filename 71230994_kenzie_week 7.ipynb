{
 "cells": [
  {
   "cell_type": "code",
   "execution_count": 2,
   "metadata": {},
   "outputs": [
    {
     "name": "stdout",
     "output_type": "stream",
     "text": [
      "mata dan taam adalah Anagram\n"
     ]
    }
   ],
   "source": [
    "#Latihan Mandiri 7.1\n",
    "ana = input(\"Masukkan kata-kata pertama: \").lower().replace(\" \", \"\")\n",
    "gram = input(\"Masukkan kata-kata kedua: \").lower().replace(\" \", \"\")\n",
    "\n",
    "if len(ana) == len(gram):\n",
    "    if sorted(ana) == sorted(gram):\n",
    "        print(f\"{ana} dan {gram} adalah Anagram\")\n",
    "    else:\n",
    "        print(f\"{ana} dan {gram} Bukan Anagram\")\n",
    "else:\n",
    "    print(f\"{ana} dan {gram} Bukan Anagram\")\n"
   ]
  },
  {
   "cell_type": "code",
   "execution_count": 14,
   "metadata": {},
   "outputs": [
    {
     "name": "stdout",
     "output_type": "stream",
     "text": [
      "Banyak kata makan di kalimat (saya mau makan. makan itu wajib. mau siang atau malam saya wajib makan) adalah 3.\n"
     ]
    }
   ],
   "source": [
    "#Latihan Mandiri 7.2\n",
    "kalimat = str(input(\"Masukkan kalimat yang anda mau: \")).lower()\n",
    "hitung_kata = str(input(\"masukkan kata yang ingin anda hitung: \")).lower()\n",
    "count_the_str = kalimat.count(hitung_kata)\n",
    "print(f\"Banyak kata {hitung_kata} di kalimat ({kalimat}) adalah {count_the_str}.\")"
   ]
  },
  {
   "cell_type": "code",
   "execution_count": 19,
   "metadata": {},
   "outputs": [
    {
     "name": "stdout",
     "output_type": "stream",
     "text": [
      "Output: saya tidak suka mancing\n"
     ]
    }
   ],
   "source": [
    "#Latihan Mandiri 7.3\n",
    "kalimat = str(input(\"Masukkan kalimat: \")).split()\n",
    "kalimat_baru = ' '.join(kalimat)\n",
    "print(f\"Output: {kalimat_baru}\") "
   ]
  },
  {
   "cell_type": "code",
   "execution_count": 20,
   "metadata": {},
   "outputs": [
    {
     "name": "stdout",
     "output_type": "stream",
     "text": [
      "kata terpendek adalah (a) dengan total huruf: (1).\n",
      "kata terpanjang adalah (snakes) dengan total huruf: (6).\n"
     ]
    }
   ],
   "source": [
    "#Latihan Mandiri 7.4\n",
    "kalimat = str(input(\"Masukkan kalimat : \")).split()\n",
    "terpendek = kalimat[0] \n",
    "terpanjang = kalimat[0]\n",
    "for i in range(len(kalimat)):\n",
    "    lk = len(kalimat[i])\n",
    "    terpendek = kalimat[i] if lk < len(terpendek) else terpendek\n",
    "    terpanjang = kalimat[i] if lk > len(terpanjang) else terpanjang\n",
    "\n",
    "print(f\"kata terpendek adalah ({terpendek}) dengan total huruf: ({len(terpendek)}).\\nkata terpanjang adalah ({terpanjang}) dengan total huruf: ({len(terpanjang)}).\")"
   ]
  }
 ],
 "metadata": {
  "kernelspec": {
   "display_name": "base",
   "language": "python",
   "name": "python3"
  },
  "language_info": {
   "codemirror_mode": {
    "name": "ipython",
    "version": 3
   },
   "file_extension": ".py",
   "mimetype": "text/x-python",
   "name": "python",
   "nbconvert_exporter": "python",
   "pygments_lexer": "ipython3",
   "version": "3.11.5"
  }
 },
 "nbformat": 4,
 "nbformat_minor": 2
}
